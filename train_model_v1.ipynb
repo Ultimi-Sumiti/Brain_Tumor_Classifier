{
 "cells": [
  {
   "cell_type": "code",
   "execution_count": 10,
   "id": "dabd8203-6e91-42d3-bde9-8e3a11638879",
   "metadata": {},
   "outputs": [],
   "source": [
    "# Core Libraries\n",
    "import os, random\n",
    "import numpy as np\n",
    "import pandas as pd\n",
    "import matplotlib.pyplot as plt\n",
    "import seaborn as sns\n",
    "\n",
    "# pytorch models\n",
    "import pytorch_lightning as L\n",
    "import torch.nn as nn\n",
    "import torch\n",
    "from torchvision import models\n",
    "from model.model_v1 import *\n",
    "\n",
    "# dataset imports\n",
    "from torch.utils.data import Dataset, DataLoader\n",
    "from dataset_loader import *\n",
    "\n",
    "# Scikit Learn\n",
    "from sklearn.utils.class_weight import compute_class_weight\n",
    "from sklearn.metrics import classification_report, confusion_matrix"
   ]
  },
  {
   "cell_type": "code",
   "execution_count": null,
   "id": "18c95e7d-909d-431b-9558-9d3066aa82ec",
   "metadata": {},
   "outputs": [],
   "source": [
    "# Visualizaion of dataset properties."
   ]
  },
  {
   "cell_type": "code",
   "execution_count": null,
   "id": "1d901010-ff37-4b86-829b-6b52ec0b090b",
   "metadata": {},
   "outputs": [],
   "source": [
    "# Setting the model.\n",
    "model = ResNetFineTuner(num_classes=YOUR_NUM_CLASSES, lr=1e-4, freeze_backbone=True)"
   ]
  },
  {
   "cell_type": "code",
   "execution_count": null,
   "id": "5b950dd6-a6c2-4f93-81c7-1969c18429f4",
   "metadata": {},
   "outputs": [],
   "source": [
    "# Importing the dataset.\n",
    "data_path = \"data\"\n",
    "dm = BRISCDataModule(data_path)\n",
    "trainer = L.Trainer(\n",
    "    accelerator=\"auto\",\n",
    "    devices=1,\n",
    "    max_epochs=50\n",
    "    #,callbacks=[loss_tracker]\n",
    ")\n",
    "trainer.fit(model, dm)"
   ]
  },
  {
   "cell_type": "code",
   "execution_count": null,
   "id": "c05b3c2e-34f6-418d-8e0b-c7be8be80cf9",
   "metadata": {},
   "outputs": [],
   "source": [
    "# Performing data augmentation."
   ]
  },
  {
   "cell_type": "code",
   "execution_count": null,
   "id": "708f1103-7a5f-43f8-b9fe-93706a6a929d",
   "metadata": {},
   "outputs": [],
   "source": [
    "# Training and fine tuning.\n",
    "class ResNetFineTuner(pl.LightningModule):\n",
    "    def __init__(self, num_classes=10, lr=1e-3, freeze_backbone=True):\n",
    "        super().__init__()\n",
    "        self.save_hyperparameters()\n",
    "\n",
    "        # Load pretrained ResNet50\n",
    "        backbone = models.resnet50(pretrained=True)\n",
    "        if freeze_backbone:\n",
    "            for param in backbone.parameters():\n",
    "                param.requires_grad = False\n",
    "\n",
    "        # Replace classifier head\n",
    "        num_ftrs = backbone.fc.in_features\n",
    "        backbone.fc = nn.Linear(num_ftrs, num_classes)\n",
    "        self.model = backbone\n",
    "\n",
    "        self.criterion = nn.CrossEntropyLoss()\n",
    "\n",
    "    def forward(self, x):\n",
    "        return self.model(x)\n",
    "\n",
    "    def training_step(self, batch, batch_idx):\n",
    "        x, y = batch\n",
    "        logits = self(x)\n",
    "        loss = self.criterion(logits, y)\n",
    "        self.log('train_loss', loss)\n",
    "        return loss\n",
    "\n",
    "    def validation_step(self, batch, batch_idx):\n",
    "        x, y = batch\n",
    "        logits = self(x)\n",
    "        val_loss = self.criterion(logits, y)\n",
    "        acc = (logits.argmax(dim=1) == y).float().mean()\n",
    "        self.log('val_loss', val_loss, prog_bar=True)\n",
    "        self.log('val_acc', acc, prog_bar=True)\n",
    "\n",
    "    def configure_optimizers(self):\n",
    "        return torch.optim.Adam(self.parameters(), lr=self.hparams.lr)"
   ]
  },
  {
   "cell_type": "code",
   "execution_count": null,
   "id": "fcc490b7-1a4e-4f86-afd2-2c14e7767992",
   "metadata": {},
   "outputs": [],
   "source": [
    "# Validation and Test."
   ]
  },
  {
   "cell_type": "code",
   "execution_count": null,
   "id": "a304aa87-87f6-44b8-b983-a16064513453",
   "metadata": {},
   "outputs": [],
   "source": [
    "# Printing statistics (seaborn)."
   ]
  }
 ],
 "metadata": {
  "kernelspec": {
   "display_name": "Python (DL & ML)",
   "language": "python",
   "name": "jupyter_env"
  },
  "language_info": {
   "codemirror_mode": {
    "name": "ipython",
    "version": 3
   },
   "file_extension": ".py",
   "mimetype": "text/x-python",
   "name": "python",
   "nbconvert_exporter": "python",
   "pygments_lexer": "ipython3",
   "version": "3.10.18"
  }
 },
 "nbformat": 4,
 "nbformat_minor": 5
}
